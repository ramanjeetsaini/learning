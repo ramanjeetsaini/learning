{
 "cells": [
  {
   "cell_type": "code",
   "execution_count": 2,
   "metadata": {},
   "outputs": [],
   "source": [
    "import numpy as np"
   ]
  },
  {
   "cell_type": "code",
   "execution_count": 3,
   "metadata": {},
   "outputs": [],
   "source": [
    "x_3d_list = [[[1,2,3],[4,5,6]],[[10,20,30],[40,50,60]]]\n",
    "x_3d = np.array(x_3d_list)"
   ]
  },
  {
   "cell_type": "code",
   "execution_count": 4,
   "metadata": {},
   "outputs": [
    {
     "name": "stdout",
     "output_type": "stream",
     "text": [
      "[[1 2 3]\n",
      " [4 5 6]]\n"
     ]
    }
   ],
   "source": [
    "print(x_3d[0,:,:])"
   ]
  },
  {
   "cell_type": "code",
   "execution_count": 5,
   "metadata": {},
   "outputs": [
    {
     "name": "stdout",
     "output_type": "stream",
     "text": [
      "The 0 element is [[1, 2, 3], [4, 5, 6]]\n",
      "The 1 element is [[10, 20, 30], [40, 50, 60]]\n"
     ]
    }
   ],
   "source": [
    "print(f\"The 0 element is {x_3d_list[0]}\")\n",
    "print(f\"The 1 element is {x_3d_list[1]}\")"
   ]
  },
  {
   "cell_type": "code",
   "execution_count": 6,
   "metadata": {},
   "outputs": [
    {
     "name": "stdout",
     "output_type": "stream",
     "text": [
      "The 0 element of the 1 element is [10, 20, 30]\n",
      "The 1 element of the 1 element is [40, 50, 60]\n"
     ]
    }
   ],
   "source": [
    "print(f\"The 0 element of the 1 element is {x_3d_list[1][0]}\")\n",
    "print(f\"The 1 element of the 1 element is {x_3d_list[1][1]}\")"
   ]
  },
  {
   "cell_type": "code",
   "execution_count": 7,
   "metadata": {},
   "outputs": [
    {
     "name": "stdout",
     "output_type": "stream",
     "text": [
      "The 2 element of the 1 element of the 1 element is 60\n"
     ]
    }
   ],
   "source": [
    "print(f\"The 2 element of the 1 element of the 1 element is {x_3d_list[1][1][2]}\")"
   ]
  },
  {
   "cell_type": "code",
   "execution_count": 8,
   "metadata": {},
   "outputs": [
    {
     "name": "stdout",
     "output_type": "stream",
     "text": [
      "60\n"
     ]
    }
   ],
   "source": [
    "print(x_3d[1,1,2])"
   ]
  },
  {
   "cell_type": "code",
   "execution_count": 9,
   "metadata": {},
   "outputs": [
    {
     "name": "stdout",
     "output_type": "stream",
     "text": [
      "[[1 2 3]\n",
      " [4 5 6]\n",
      " [7 8 9]]\n"
     ]
    }
   ],
   "source": [
    "x_2d = np.array([[1, 2, 3], [4, 5, 6], [7, 8, 9]])\n",
    "print(x_2d)"
   ]
  },
  {
   "cell_type": "code",
   "execution_count": 12,
   "metadata": {},
   "outputs": [
    {
     "name": "stdout",
     "output_type": "stream",
     "text": [
      "[4 5 6]\n",
      "6\n"
     ]
    }
   ],
   "source": [
    "print(x_2d[1])\n",
    "print(x_2d[1,2])"
   ]
  },
  {
   "attachments": {},
   "cell_type": "markdown",
   "metadata": {},
   "source": [
    "if you look at the above indexing, innermost indexing is returning the 2nd row for inner-most value of 1. However, the outermost value of 2 is returning 6 which means 3rd column element in that row. therefore, it means that innermost index corresponds to rows and outermost index corresponds to columns. "
   ]
  },
  {
   "cell_type": "code",
   "execution_count": 13,
   "metadata": {},
   "outputs": [
    {
     "name": "stdout",
     "output_type": "stream",
     "text": [
      "[[[ 1  2  3]\n",
      "  [ 4  5  6]]\n",
      "\n",
      " [[10 20 30]\n",
      "  [40 50 60]]]\n"
     ]
    }
   ],
   "source": [
    "print(x_3d)"
   ]
  },
  {
   "cell_type": "code",
   "execution_count": 27,
   "metadata": {},
   "outputs": [
    {
     "name": "stdout",
     "output_type": "stream",
     "text": [
      "[[ 5  6]\n",
      " [50 60]]\n"
     ]
    }
   ],
   "source": [
    "print(x_3d[:,1,1:3])"
   ]
  },
  {
   "cell_type": "code",
   "execution_count": 28,
   "metadata": {},
   "outputs": [
    {
     "name": "stdout",
     "output_type": "stream",
     "text": [
      "[[[1, 2, 3], [4, 5, 6]], [[10, 20, 30], [40, 50, 60]]]\n"
     ]
    }
   ],
   "source": [
    "print(x_3d_list)\n"
   ]
  },
  {
   "cell_type": "code",
   "execution_count": 29,
   "metadata": {},
   "outputs": [
    {
     "name": "stdout",
     "output_type": "stream",
     "text": [
      "[[[1, 2, 3], [4, 5, 6]], [[10, 20, 30], [40, 50, 60]], [[1, 2, 3], [4, 5, 6]], [[10, 20, 30], [40, 50, 60]], [[1, 2, 3], [4, 5, 6]], [[10, 20, 30], [40, 50, 60]], [[1, 2, 3], [4, 5, 6]], [[10, 20, 30], [40, 50, 60]]]\n"
     ]
    }
   ],
   "source": [
    "print(x_3d_list*4)"
   ]
  },
  {
   "attachments": {},
   "cell_type": "markdown",
   "metadata": {},
   "source": [
    "So if an integer is multiplied by the list, the elements are duplicated that many times in the list."
   ]
  },
  {
   "attachments": {},
   "cell_type": "markdown",
   "metadata": {},
   "source": [
    "What does it mean when the question says how does this differ?"
   ]
  },
  {
   "cell_type": "code",
   "execution_count": 37,
   "metadata": {},
   "outputs": [
    {
     "name": "stdout",
     "output_type": "stream",
     "text": [
      "[ 1  2  3  4  5  6  7  8  9 10]\n",
      "[101.94174757281554, 103.82693939108304, 105.65722270978937, 107.43419680562076, 109.15941437438907, 110.83438288775639, 112.4605659104431, 114.03938437907098, 115.57221784375821, 117.06040567355166]\n"
     ]
    }
   ],
   "source": [
    "i = 0.03\n",
    "M = 100\n",
    "C = 5\n",
    "\n",
    "# Define array here\n",
    "N = np.arange(1,11)\n",
    "print(N)\n",
    "\n",
    "# price bonds here\n",
    "bond_list = []\n",
    "for j in N:\n",
    "    coupon = C*((1-(1+i)**(-j))/i)\n",
    "    maturity = M*((1+i)**(-j))\n",
    "    bond_list.append(coupon+maturity)\n",
    "\n",
    "print(bond_list)"
   ]
  }
 ],
 "metadata": {
  "kernelspec": {
   "display_name": "Python 3",
   "language": "python",
   "name": "python3"
  },
  "language_info": {
   "codemirror_mode": {
    "name": "ipython",
    "version": 3
   },
   "file_extension": ".py",
   "mimetype": "text/x-python",
   "name": "python",
   "nbconvert_exporter": "python",
   "pygments_lexer": "ipython3",
   "version": "3.10.8"
  },
  "orig_nbformat": 4,
  "vscode": {
   "interpreter": {
    "hash": "b0fa6594d8f4cbf19f97940f81e996739fb7646882a419484c72d19e05852a7e"
   }
  }
 },
 "nbformat": 4,
 "nbformat_minor": 2
}
